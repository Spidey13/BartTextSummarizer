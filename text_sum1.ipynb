{
 "cells": [
  {
   "cell_type": "code",
   "execution_count": 4,
   "metadata": {},
   "outputs": [],
   "source": [
    "from transformers import AutoTokenizer, AutoModelForTokenClassification, AutoModelForSequenceClassification, BartTokenizer, BartForConditionalGeneration, TFAutoModelForSequenceClassification\n",
    "from transformers import pipeline\n",
    "import tensorflow as tf"
   ]
  },
  {
   "cell_type": "code",
   "execution_count": 5,
   "metadata": {},
   "outputs": [],
   "source": [
    "model = BartForConditionalGeneration.from_pretrained(\n",
    "        \"saved_model/my_model_1\")"
   ]
  },
  {
   "cell_type": "code",
   "execution_count": 6,
   "metadata": {},
   "outputs": [],
   "source": [
    "tokenizer = BartTokenizer.from_pretrained(\"facebook/bart-large-cnn\")\n",
    "# model = BartForConditionalGeneration.from_pretrained(\"facebook/bart-large-cnn\")"
   ]
  },
  {
   "cell_type": "code",
   "execution_count": 7,
   "metadata": {},
   "outputs": [],
   "source": [
    "ARTICLE_TO_SUMMARIZE = \"Tesla has idled its Shanghai Gigafactory for two days amid a rise in China’s Omicron cases that has prompted the government to tighten restrictions there. The automaker sent a notice to employees and suppliers on Wednesday informing them of the closure, reported Reuters, which viewed the internal memo. The electric vehicle maker didn’t confirm the reason for suspending production on Wednesday and Thursday. However, the temporary suspension in production comes as Toyota and Volkswagen  – the world’s largest two automakers – also idled operations in China this week due to a local increase in COVID-19 cases and the additional restrictions that the government implemented to manage the surge. It is also possible that supply chain constraints contributed to the reason for the shutdown. The round-the-clock factory is key to Tesla’s global operations — and its bottom line. The Shanghai Gigafactory, which is Tesla’s largest by volume, exports a significant number of Model 3 and Model Y vehicles to Europe. The factory has been producing about 2,000 vehicles per day, so even a two-day shutdown could drastically reduce Tesla’s output and further delay deliveries. The virus is surging again in China, with cases for the first three months of the year surpassing the total number of cases in 2021. The number of new daily cases has begun reaching levels not seen since the pandemic’s arrival in March 2020. Throughout the pandemic, the Chinese government has enforced mass testing and isolation to contain the spread.\"\n",
    "inputs = tokenizer([ARTICLE_TO_SUMMARIZE], return_tensors='pt')"
   ]
  },
  {
   "cell_type": "code",
   "execution_count": 10,
   "metadata": {},
   "outputs": [
    {
     "data": {
      "text/plain": [
       "dict_keys(['input_ids', 'attention_mask'])"
      ]
     },
     "execution_count": 10,
     "metadata": {},
     "output_type": "execute_result"
    }
   ],
   "source": [
    "inputs.keys()"
   ]
  },
  {
   "cell_type": "code",
   "execution_count": 6,
   "metadata": {},
   "outputs": [],
   "source": [
    "summary_ids = model.generate(inputs['input_ids'], max_length=500, early_stopping=False)"
   ]
  },
  {
   "cell_type": "code",
   "execution_count": null,
   "metadata": {},
   "outputs": [],
   "source": [
    "summary_ids"
   ]
  },
  {
   "cell_type": "code",
   "execution_count": 7,
   "metadata": {},
   "outputs": [
    {
     "name": "stdout",
     "output_type": "stream",
     "text": [
      "['Tesla has idled its Shanghai Gigafactory for two days amid a rise in China’s Omicron cases. The automaker sent a notice to employees and suppliers on Wednesday informing them of the closure. The electric vehicle maker didn’t confirm the reason for suspending production on Wednesday and Thursday. Toyota and Volkswagen also idled operations in China this week due to a local increase in COVID-19 cases and the additional restrictions that the government implemented to manage the surge.']\n"
     ]
    }
   ],
   "source": [
    "print([tokenizer.decode(g, skip_special_tokens=True) for g in summary_ids])"
   ]
  },
  {
   "cell_type": "code",
   "execution_count": 6,
   "metadata": {},
   "outputs": [],
   "source": [
    "model.save_pretrained('saved_model/my_model_1')"
   ]
  }
 ],
 "metadata": {
  "interpreter": {
   "hash": "876ceaa48477b3a357d93b28e9ba098b072d07a619336a90b1be8536f5120720"
  },
  "kernelspec": {
   "display_name": "Python 3.10.3 ('venv': venv)",
   "language": "python",
   "name": "python3"
  },
  "language_info": {
   "codemirror_mode": {
    "name": "ipython",
    "version": 3
   },
   "file_extension": ".py",
   "mimetype": "text/x-python",
   "name": "python",
   "nbconvert_exporter": "python",
   "pygments_lexer": "ipython3",
   "version": "3.9.5"
  },
  "orig_nbformat": 4
 },
 "nbformat": 4,
 "nbformat_minor": 2
}
